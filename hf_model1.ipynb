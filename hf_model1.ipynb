{
 "cells": [
  {
   "cell_type": "code",
   "execution_count": 19,
   "metadata": {
    "tags": []
   },
   "outputs": [
    {
     "name": "stdout",
     "output_type": "stream",
     "text": [
      "                                                  Title  \\\n",
      "1006  NZ will be ready to go from first ball: Daryl ...   \n",
      "1007  India shouldn't send team for CWG: Ex-coach Vi...   \n",
      "1008  Perth Scorchers sign pacer from Indonesia for ...   \n",
      "1009  Netflix shuts down AAA game development studio...   \n",
      "1010  Pep Guardiola comments on Kevin de Bruyne's re...   \n",
      "\n",
      "                                                   Data   class sentiment  \n",
      "1006  New Zealand all-rounder Daryl Mitchell said th...  sports  positive  \n",
      "1007  Ex-India badminton coach Vimal Kumar criticise...  sports  negative  \n",
      "1008  Perth Scorchers have signed Indonesia seamer N...  sports  positive  \n",
      "1009  AAA game development studio, Team Blue by Netf...  sports  positive  \n",
      "1010  Head coach Pep Guardiola spoke at the pre-matc...  sports  positive  \n"
     ]
    }
   ],
   "source": [
    "import pandas as pd\n",
    "import seaborn as sns\n",
    "import matplotlib.pyplot as plt\n",
    "\n",
    "# Load the first dataset to get the column labels\n",
    "first_df = pd.read_excel('Labeled_Data/scraped_articles_business_2_with_sentiment.xlsx')\n",
    "columns = first_df.columns  # Extract column names\n",
    "\n",
    "# Load all sheets and concatenate using the columns from the first dataset\n",
    "sheets = ['Labeled_Data/scraped_articles_business_2_with_sentiment.xlsx', 'Labeled_Data/scraped_articles_business1_with_sentiment.xlsx'\n",
    "          , 'Labeled_Data/scraped_articles_tech_with_sentiment.xlsx', 'Labeled_Data/scraped_articles_with_sentiment.xlsx']\n",
    "dfs = [pd.read_excel(sheet, names=columns) for sheet in sheets]  # Use the same column names\n",
    "df = pd.concat(dfs, ignore_index=True)\n",
    "print(df.tail())"
   ]
  },
  {
   "cell_type": "code",
   "execution_count": 20,
   "metadata": {
    "tags": []
   },
   "outputs": [
    {
     "name": "stdout",
     "output_type": "stream",
     "text": [
      "sentiment\n",
      "positive    629\n",
      "negative    629\n",
      "neutral     629\n",
      "Name: count, dtype: int64\n"
     ]
    }
   ],
   "source": [
    "from sklearn.utils import resample\n",
    "import pandas as pd\n",
    "\n",
    "positive = df[df['sentiment'] == 'positive']\n",
    "negative = df[df['sentiment'] == 'negative']\n",
    "neutral = df[df['sentiment'] == 'neutral']\n",
    "\n",
    "negative_upsampled = resample(negative, replace=True, n_samples=len(positive), random_state=42)\n",
    "neutral_upsampled = resample(neutral, replace=True, n_samples=len(positive), random_state=42)\n",
    "\n",
    "df_upsampled = pd.concat([positive, negative_upsampled, neutral_upsampled])\n",
    "\n",
    "print(df_upsampled['sentiment'].value_counts())\n"
   ]
  },
  {
   "cell_type": "code",
   "execution_count": 21,
   "metadata": {
    "tags": []
   },
   "outputs": [
    {
     "data": {
      "text/html": [
       "<div>\n",
       "<style scoped>\n",
       "    .dataframe tbody tr th:only-of-type {\n",
       "        vertical-align: middle;\n",
       "    }\n",
       "\n",
       "    .dataframe tbody tr th {\n",
       "        vertical-align: top;\n",
       "    }\n",
       "\n",
       "    .dataframe thead th {\n",
       "        text-align: right;\n",
       "    }\n",
       "</style>\n",
       "<table border=\"1\" class=\"dataframe\">\n",
       "  <thead>\n",
       "    <tr style=\"text-align: right;\">\n",
       "      <th></th>\n",
       "      <th>Title</th>\n",
       "      <th>Data</th>\n",
       "      <th>class</th>\n",
       "      <th>sentiment</th>\n",
       "    </tr>\n",
       "  </thead>\n",
       "  <tbody>\n",
       "    <tr>\n",
       "      <th>57</th>\n",
       "      <td>Eni to sell 25% stake in biofuel unit to KKR</td>\n",
       "      <td>Italian group will use investment to help fund...</td>\n",
       "      <td>stock business</td>\n",
       "      <td>neutral</td>\n",
       "    </tr>\n",
       "    <tr>\n",
       "      <th>449</th>\n",
       "      <td>SpaceX wins $733 million launch contract from ...</td>\n",
       "      <td>Elon Musk-led SpaceX has won a $733 million co...</td>\n",
       "      <td>technology</td>\n",
       "      <td>neutral</td>\n",
       "    </tr>\n",
       "    <tr>\n",
       "      <th>483</th>\n",
       "      <td>Elon Musk donates $75 million to pro-Trump gro...</td>\n",
       "      <td>Billionaire Elon Musk donated around $75 milli...</td>\n",
       "      <td>technology</td>\n",
       "      <td>neutral</td>\n",
       "    </tr>\n",
       "    <tr>\n",
       "      <th>465</th>\n",
       "      <td>Netflix sees 35% QoQ jump in ads membership; Q...</td>\n",
       "      <td>Netflix has posted 35% quarter-on-quarter jump...</td>\n",
       "      <td>technology</td>\n",
       "      <td>neutral</td>\n",
       "    </tr>\n",
       "    <tr>\n",
       "      <th>668</th>\n",
       "      <td>Production at Tata's iPhone plant in Tamil Nad...</td>\n",
       "      <td>Tata Electronics has indefinitely suspended pr...</td>\n",
       "      <td>technology</td>\n",
       "      <td>neutral</td>\n",
       "    </tr>\n",
       "    <tr>\n",
       "      <th>889</th>\n",
       "      <td>No more Bazball: Rizwan teases Brook for playi...</td>\n",
       "      <td>Pakistan wicketkeeper Muhammad Rizwan teased E...</td>\n",
       "      <td>sports</td>\n",
       "      <td>neutral</td>\n",
       "    </tr>\n",
       "    <tr>\n",
       "      <th>112</th>\n",
       "      <td>Emerging markets are having a moment</td>\n",
       "      <td>US interest rate cuts spur reassessment of ass...</td>\n",
       "      <td>stock business</td>\n",
       "      <td>neutral</td>\n",
       "    </tr>\n",
       "    <tr>\n",
       "      <th>10</th>\n",
       "      <td>Politics is distorting economic data</td>\n",
       "      <td>Partisanship continues to pollute results of i...</td>\n",
       "      <td>stock business</td>\n",
       "      <td>neutral</td>\n",
       "    </tr>\n",
       "    <tr>\n",
       "      <th>423</th>\n",
       "      <td>Jellysmack laying off employees amid reorganis...</td>\n",
       "      <td>Jellysmack, a SoftBank-backed creator-economy ...</td>\n",
       "      <td>technology</td>\n",
       "      <td>neutral</td>\n",
       "    </tr>\n",
       "    <tr>\n",
       "      <th>685</th>\n",
       "      <td>Batted at 8 in IPL 2024 to give Jadeja, Dube c...</td>\n",
       "      <td>Discussing his decision of batting at eight in...</td>\n",
       "      <td>sports</td>\n",
       "      <td>neutral</td>\n",
       "    </tr>\n",
       "  </tbody>\n",
       "</table>\n",
       "</div>"
      ],
      "text/plain": [
       "                                                 Title  \\\n",
       "57        Eni to sell 25% stake in biofuel unit to KKR   \n",
       "449  SpaceX wins $733 million launch contract from ...   \n",
       "483  Elon Musk donates $75 million to pro-Trump gro...   \n",
       "465  Netflix sees 35% QoQ jump in ads membership; Q...   \n",
       "668  Production at Tata's iPhone plant in Tamil Nad...   \n",
       "889  No more Bazball: Rizwan teases Brook for playi...   \n",
       "112               Emerging markets are having a moment   \n",
       "10                Politics is distorting economic data   \n",
       "423  Jellysmack laying off employees amid reorganis...   \n",
       "685  Batted at 8 in IPL 2024 to give Jadeja, Dube c...   \n",
       "\n",
       "                                                  Data           class  \\\n",
       "57   Italian group will use investment to help fund...  stock business   \n",
       "449  Elon Musk-led SpaceX has won a $733 million co...      technology   \n",
       "483  Billionaire Elon Musk donated around $75 milli...      technology   \n",
       "465  Netflix has posted 35% quarter-on-quarter jump...      technology   \n",
       "668  Tata Electronics has indefinitely suspended pr...      technology   \n",
       "889  Pakistan wicketkeeper Muhammad Rizwan teased E...          sports   \n",
       "112  US interest rate cuts spur reassessment of ass...  stock business   \n",
       "10   Partisanship continues to pollute results of i...  stock business   \n",
       "423  Jellysmack, a SoftBank-backed creator-economy ...      technology   \n",
       "685  Discussing his decision of batting at eight in...          sports   \n",
       "\n",
       "    sentiment  \n",
       "57    neutral  \n",
       "449   neutral  \n",
       "483   neutral  \n",
       "465   neutral  \n",
       "668   neutral  \n",
       "889   neutral  \n",
       "112   neutral  \n",
       "10    neutral  \n",
       "423   neutral  \n",
       "685   neutral  "
      ]
     },
     "execution_count": 21,
     "metadata": {},
     "output_type": "execute_result"
    }
   ],
   "source": [
    "df_upsampled.tail(10)"
   ]
  },
  {
   "cell_type": "code",
   "execution_count": 22,
   "metadata": {
    "tags": []
   },
   "outputs": [],
   "source": [
    "df_upsampled['combined_text'] = df_upsampled['Title'] + ': ' + df_upsampled['Data']"
   ]
  },
  {
   "cell_type": "code",
   "execution_count": 23,
   "metadata": {
    "tags": []
   },
   "outputs": [
    {
     "data": {
      "text/html": [
       "<div>\n",
       "<style scoped>\n",
       "    .dataframe tbody tr th:only-of-type {\n",
       "        vertical-align: middle;\n",
       "    }\n",
       "\n",
       "    .dataframe tbody tr th {\n",
       "        vertical-align: top;\n",
       "    }\n",
       "\n",
       "    .dataframe thead th {\n",
       "        text-align: right;\n",
       "    }\n",
       "</style>\n",
       "<table border=\"1\" class=\"dataframe\">\n",
       "  <thead>\n",
       "    <tr style=\"text-align: right;\">\n",
       "      <th></th>\n",
       "      <th>Title</th>\n",
       "      <th>Data</th>\n",
       "      <th>class</th>\n",
       "      <th>sentiment</th>\n",
       "      <th>combined_text</th>\n",
       "    </tr>\n",
       "  </thead>\n",
       "  <tbody>\n",
       "    <tr>\n",
       "      <th>57</th>\n",
       "      <td>Eni to sell 25% stake in biofuel unit to KKR</td>\n",
       "      <td>Italian group will use investment to help fund...</td>\n",
       "      <td>stock business</td>\n",
       "      <td>neutral</td>\n",
       "      <td>Eni to sell 25% stake in biofuel unit to KKR: ...</td>\n",
       "    </tr>\n",
       "    <tr>\n",
       "      <th>449</th>\n",
       "      <td>SpaceX wins $733 million launch contract from ...</td>\n",
       "      <td>Elon Musk-led SpaceX has won a $733 million co...</td>\n",
       "      <td>technology</td>\n",
       "      <td>neutral</td>\n",
       "      <td>SpaceX wins $733 million launch contract from ...</td>\n",
       "    </tr>\n",
       "    <tr>\n",
       "      <th>483</th>\n",
       "      <td>Elon Musk donates $75 million to pro-Trump gro...</td>\n",
       "      <td>Billionaire Elon Musk donated around $75 milli...</td>\n",
       "      <td>technology</td>\n",
       "      <td>neutral</td>\n",
       "      <td>Elon Musk donates $75 million to pro-Trump gro...</td>\n",
       "    </tr>\n",
       "    <tr>\n",
       "      <th>465</th>\n",
       "      <td>Netflix sees 35% QoQ jump in ads membership; Q...</td>\n",
       "      <td>Netflix has posted 35% quarter-on-quarter jump...</td>\n",
       "      <td>technology</td>\n",
       "      <td>neutral</td>\n",
       "      <td>Netflix sees 35% QoQ jump in ads membership; Q...</td>\n",
       "    </tr>\n",
       "    <tr>\n",
       "      <th>668</th>\n",
       "      <td>Production at Tata's iPhone plant in Tamil Nad...</td>\n",
       "      <td>Tata Electronics has indefinitely suspended pr...</td>\n",
       "      <td>technology</td>\n",
       "      <td>neutral</td>\n",
       "      <td>Production at Tata's iPhone plant in Tamil Nad...</td>\n",
       "    </tr>\n",
       "    <tr>\n",
       "      <th>889</th>\n",
       "      <td>No more Bazball: Rizwan teases Brook for playi...</td>\n",
       "      <td>Pakistan wicketkeeper Muhammad Rizwan teased E...</td>\n",
       "      <td>sports</td>\n",
       "      <td>neutral</td>\n",
       "      <td>No more Bazball: Rizwan teases Brook for playi...</td>\n",
       "    </tr>\n",
       "    <tr>\n",
       "      <th>112</th>\n",
       "      <td>Emerging markets are having a moment</td>\n",
       "      <td>US interest rate cuts spur reassessment of ass...</td>\n",
       "      <td>stock business</td>\n",
       "      <td>neutral</td>\n",
       "      <td>Emerging markets are having a moment: US inter...</td>\n",
       "    </tr>\n",
       "    <tr>\n",
       "      <th>10</th>\n",
       "      <td>Politics is distorting economic data</td>\n",
       "      <td>Partisanship continues to pollute results of i...</td>\n",
       "      <td>stock business</td>\n",
       "      <td>neutral</td>\n",
       "      <td>Politics is distorting economic data: Partisan...</td>\n",
       "    </tr>\n",
       "    <tr>\n",
       "      <th>423</th>\n",
       "      <td>Jellysmack laying off employees amid reorganis...</td>\n",
       "      <td>Jellysmack, a SoftBank-backed creator-economy ...</td>\n",
       "      <td>technology</td>\n",
       "      <td>neutral</td>\n",
       "      <td>Jellysmack laying off employees amid reorganis...</td>\n",
       "    </tr>\n",
       "    <tr>\n",
       "      <th>685</th>\n",
       "      <td>Batted at 8 in IPL 2024 to give Jadeja, Dube c...</td>\n",
       "      <td>Discussing his decision of batting at eight in...</td>\n",
       "      <td>sports</td>\n",
       "      <td>neutral</td>\n",
       "      <td>Batted at 8 in IPL 2024 to give Jadeja, Dube c...</td>\n",
       "    </tr>\n",
       "  </tbody>\n",
       "</table>\n",
       "</div>"
      ],
      "text/plain": [
       "                                                 Title  \\\n",
       "57        Eni to sell 25% stake in biofuel unit to KKR   \n",
       "449  SpaceX wins $733 million launch contract from ...   \n",
       "483  Elon Musk donates $75 million to pro-Trump gro...   \n",
       "465  Netflix sees 35% QoQ jump in ads membership; Q...   \n",
       "668  Production at Tata's iPhone plant in Tamil Nad...   \n",
       "889  No more Bazball: Rizwan teases Brook for playi...   \n",
       "112               Emerging markets are having a moment   \n",
       "10                Politics is distorting economic data   \n",
       "423  Jellysmack laying off employees amid reorganis...   \n",
       "685  Batted at 8 in IPL 2024 to give Jadeja, Dube c...   \n",
       "\n",
       "                                                  Data           class  \\\n",
       "57   Italian group will use investment to help fund...  stock business   \n",
       "449  Elon Musk-led SpaceX has won a $733 million co...      technology   \n",
       "483  Billionaire Elon Musk donated around $75 milli...      technology   \n",
       "465  Netflix has posted 35% quarter-on-quarter jump...      technology   \n",
       "668  Tata Electronics has indefinitely suspended pr...      technology   \n",
       "889  Pakistan wicketkeeper Muhammad Rizwan teased E...          sports   \n",
       "112  US interest rate cuts spur reassessment of ass...  stock business   \n",
       "10   Partisanship continues to pollute results of i...  stock business   \n",
       "423  Jellysmack, a SoftBank-backed creator-economy ...      technology   \n",
       "685  Discussing his decision of batting at eight in...          sports   \n",
       "\n",
       "    sentiment                                      combined_text  \n",
       "57    neutral  Eni to sell 25% stake in biofuel unit to KKR: ...  \n",
       "449   neutral  SpaceX wins $733 million launch contract from ...  \n",
       "483   neutral  Elon Musk donates $75 million to pro-Trump gro...  \n",
       "465   neutral  Netflix sees 35% QoQ jump in ads membership; Q...  \n",
       "668   neutral  Production at Tata's iPhone plant in Tamil Nad...  \n",
       "889   neutral  No more Bazball: Rizwan teases Brook for playi...  \n",
       "112   neutral  Emerging markets are having a moment: US inter...  \n",
       "10    neutral  Politics is distorting economic data: Partisan...  \n",
       "423   neutral  Jellysmack laying off employees amid reorganis...  \n",
       "685   neutral  Batted at 8 in IPL 2024 to give Jadeja, Dube c...  "
      ]
     },
     "execution_count": 23,
     "metadata": {},
     "output_type": "execute_result"
    }
   ],
   "source": [
    "df_upsampled.tail(10)"
   ]
  },
  {
   "cell_type": "code",
   "execution_count": 24,
   "metadata": {
    "tags": []
   },
   "outputs": [
    {
     "name": "stdout",
     "output_type": "stream",
     "text": [
      "huggingface/tokenizers: The current process just got forked, after parallelism has already been used. Disabling parallelism to avoid deadlocks...\n",
      "To disable this warning, you can either:\n",
      "\t- Avoid using `tokenizers` before the fork if possible\n",
      "\t- Explicitly set the environment variable TOKENIZERS_PARALLELISM=(true | false)\n"
     ]
    },
    {
     "name": "stderr",
     "output_type": "stream",
     "text": [
      "/Users/reetvikchatterjee/anaconda3/lib/python3.11/pty.py:89: RuntimeWarning: os.fork() was called. os.fork() is incompatible with multithreaded code, and JAX is multithreaded, so this will likely lead to a deadlock.\n",
      "  pid, fd = os.forkpty()\n"
     ]
    },
    {
     "name": "stdout",
     "output_type": "stream",
     "text": [
      "Requirement already satisfied: transformers in /Users/reetvikchatterjee/anaconda3/lib/python3.11/site-packages (4.33.3)\n",
      "Requirement already satisfied: tensorflow in /Users/reetvikchatterjee/anaconda3/lib/python3.11/site-packages (2.15.0)\n",
      "Requirement already satisfied: datasets in /Users/reetvikchatterjee/anaconda3/lib/python3.11/site-packages (2.12.0)\n",
      "Requirement already satisfied: filelock in /Users/reetvikchatterjee/anaconda3/lib/python3.11/site-packages (from transformers) (3.13.1)\n",
      "Requirement already satisfied: huggingface-hub<1.0,>=0.15.1 in /Users/reetvikchatterjee/anaconda3/lib/python3.11/site-packages (from transformers) (0.23.2)\n",
      "Requirement already satisfied: numpy>=1.17 in /Users/reetvikchatterjee/anaconda3/lib/python3.11/site-packages (from transformers) (1.23.5)\n",
      "Requirement already satisfied: packaging>=20.0 in /Users/reetvikchatterjee/anaconda3/lib/python3.11/site-packages (from transformers) (24.1)\n",
      "Requirement already satisfied: pyyaml>=5.1 in /Users/reetvikchatterjee/anaconda3/lib/python3.11/site-packages (from transformers) (6.0.1)\n",
      "Requirement already satisfied: regex!=2019.12.17 in /Users/reetvikchatterjee/anaconda3/lib/python3.11/site-packages (from transformers) (2024.7.24)\n",
      "Requirement already satisfied: requests in /Users/reetvikchatterjee/anaconda3/lib/python3.11/site-packages (from transformers) (2.32.3)\n",
      "Requirement already satisfied: tokenizers!=0.11.3,<0.14,>=0.11.1 in /Users/reetvikchatterjee/anaconda3/lib/python3.11/site-packages (from transformers) (0.13.2)\n",
      "Requirement already satisfied: safetensors>=0.3.1 in /Users/reetvikchatterjee/anaconda3/lib/python3.11/site-packages (from transformers) (0.4.5)\n",
      "Requirement already satisfied: tqdm>=4.27 in /Users/reetvikchatterjee/anaconda3/lib/python3.11/site-packages (from transformers) (4.66.5)\n",
      "Requirement already satisfied: tensorflow-macos==2.15.0 in /Users/reetvikchatterjee/anaconda3/lib/python3.11/site-packages (from tensorflow) (2.15.0)\n",
      "Requirement already satisfied: absl-py>=1.0.0 in /Users/reetvikchatterjee/anaconda3/lib/python3.11/site-packages (from tensorflow-macos==2.15.0->tensorflow) (2.0.0)\n",
      "Requirement already satisfied: astunparse>=1.6.0 in /Users/reetvikchatterjee/anaconda3/lib/python3.11/site-packages (from tensorflow-macos==2.15.0->tensorflow) (1.6.3)\n",
      "Requirement already satisfied: flatbuffers>=23.5.26 in /Users/reetvikchatterjee/anaconda3/lib/python3.11/site-packages (from tensorflow-macos==2.15.0->tensorflow) (23.5.26)\n",
      "Requirement already satisfied: gast!=0.5.0,!=0.5.1,!=0.5.2,>=0.2.1 in /Users/reetvikchatterjee/anaconda3/lib/python3.11/site-packages (from tensorflow-macos==2.15.0->tensorflow) (0.5.4)\n",
      "Requirement already satisfied: google-pasta>=0.1.1 in /Users/reetvikchatterjee/anaconda3/lib/python3.11/site-packages (from tensorflow-macos==2.15.0->tensorflow) (0.2.0)\n",
      "Requirement already satisfied: h5py>=2.9.0 in /Users/reetvikchatterjee/anaconda3/lib/python3.11/site-packages (from tensorflow-macos==2.15.0->tensorflow) (3.11.0)\n",
      "Requirement already satisfied: libclang>=13.0.0 in /Users/reetvikchatterjee/anaconda3/lib/python3.11/site-packages (from tensorflow-macos==2.15.0->tensorflow) (16.0.6)\n",
      "Requirement already satisfied: ml-dtypes~=0.2.0 in /Users/reetvikchatterjee/anaconda3/lib/python3.11/site-packages (from tensorflow-macos==2.15.0->tensorflow) (0.2.0)\n",
      "Requirement already satisfied: opt-einsum>=2.3.2 in /Users/reetvikchatterjee/anaconda3/lib/python3.11/site-packages (from tensorflow-macos==2.15.0->tensorflow) (3.3.0)\n",
      "Requirement already satisfied: protobuf!=4.21.0,!=4.21.1,!=4.21.2,!=4.21.3,!=4.21.4,!=4.21.5,<5.0.0dev,>=3.20.3 in /Users/reetvikchatterjee/anaconda3/lib/python3.11/site-packages (from tensorflow-macos==2.15.0->tensorflow) (4.23.4)\n",
      "Requirement already satisfied: setuptools in /Users/reetvikchatterjee/anaconda3/lib/python3.11/site-packages (from tensorflow-macos==2.15.0->tensorflow) (75.0.0)\n",
      "Requirement already satisfied: six>=1.12.0 in /Users/reetvikchatterjee/anaconda3/lib/python3.11/site-packages (from tensorflow-macos==2.15.0->tensorflow) (1.16.0)\n",
      "Requirement already satisfied: termcolor>=1.1.0 in /Users/reetvikchatterjee/anaconda3/lib/python3.11/site-packages (from tensorflow-macos==2.15.0->tensorflow) (2.3.0)\n",
      "Requirement already satisfied: typing-extensions>=3.6.6 in /Users/reetvikchatterjee/anaconda3/lib/python3.11/site-packages (from tensorflow-macos==2.15.0->tensorflow) (4.11.0)\n",
      "Requirement already satisfied: wrapt<1.15,>=1.11.0 in /Users/reetvikchatterjee/anaconda3/lib/python3.11/site-packages (from tensorflow-macos==2.15.0->tensorflow) (1.14.1)\n",
      "Requirement already satisfied: tensorflow-io-gcs-filesystem>=0.23.1 in /Users/reetvikchatterjee/anaconda3/lib/python3.11/site-packages (from tensorflow-macos==2.15.0->tensorflow) (0.34.0)\n",
      "Requirement already satisfied: grpcio<2.0,>=1.24.3 in /Users/reetvikchatterjee/anaconda3/lib/python3.11/site-packages (from tensorflow-macos==2.15.0->tensorflow) (1.64.0)\n",
      "Requirement already satisfied: tensorboard<2.16,>=2.15 in /Users/reetvikchatterjee/anaconda3/lib/python3.11/site-packages (from tensorflow-macos==2.15.0->tensorflow) (2.15.1)\n",
      "Requirement already satisfied: tensorflow-estimator<2.16,>=2.15.0 in /Users/reetvikchatterjee/anaconda3/lib/python3.11/site-packages (from tensorflow-macos==2.15.0->tensorflow) (2.15.0)\n",
      "Requirement already satisfied: keras<2.16,>=2.15.0 in /Users/reetvikchatterjee/anaconda3/lib/python3.11/site-packages (from tensorflow-macos==2.15.0->tensorflow) (2.15.0)\n",
      "Requirement already satisfied: pyarrow>=8.0.0 in /Users/reetvikchatterjee/anaconda3/lib/python3.11/site-packages (from datasets) (16.1.0)\n",
      "Requirement already satisfied: dill<0.3.7,>=0.3.0 in /Users/reetvikchatterjee/anaconda3/lib/python3.11/site-packages (from datasets) (0.3.6)\n",
      "Requirement already satisfied: pandas in /Users/reetvikchatterjee/anaconda3/lib/python3.11/site-packages (from datasets) (2.2.2)\n",
      "Requirement already satisfied: xxhash in /Users/reetvikchatterjee/anaconda3/lib/python3.11/site-packages (from datasets) (2.0.2)\n",
      "Requirement already satisfied: multiprocess in /Users/reetvikchatterjee/anaconda3/lib/python3.11/site-packages (from datasets) (0.70.14)\n",
      "Requirement already satisfied: fsspec>=2021.11.1 in /Users/reetvikchatterjee/anaconda3/lib/python3.11/site-packages (from fsspec[http]>=2021.11.1->datasets) (2024.9.0)\n",
      "Requirement already satisfied: aiohttp in /Users/reetvikchatterjee/anaconda3/lib/python3.11/site-packages (from datasets) (3.10.5)\n",
      "Requirement already satisfied: responses<0.19 in /Users/reetvikchatterjee/anaconda3/lib/python3.11/site-packages (from datasets) (0.13.3)\n",
      "Requirement already satisfied: aiohappyeyeballs>=2.3.0 in /Users/reetvikchatterjee/anaconda3/lib/python3.11/site-packages (from aiohttp->datasets) (2.4.0)\n",
      "Requirement already satisfied: aiosignal>=1.1.2 in /Users/reetvikchatterjee/anaconda3/lib/python3.11/site-packages (from aiohttp->datasets) (1.2.0)\n",
      "Requirement already satisfied: attrs>=17.3.0 in /Users/reetvikchatterjee/anaconda3/lib/python3.11/site-packages (from aiohttp->datasets) (23.1.0)\n",
      "Requirement already satisfied: frozenlist>=1.1.1 in /Users/reetvikchatterjee/anaconda3/lib/python3.11/site-packages (from aiohttp->datasets) (1.4.0)\n",
      "Requirement already satisfied: multidict<7.0,>=4.5 in /Users/reetvikchatterjee/anaconda3/lib/python3.11/site-packages (from aiohttp->datasets) (6.0.4)\n",
      "Requirement already satisfied: yarl<2.0,>=1.0 in /Users/reetvikchatterjee/anaconda3/lib/python3.11/site-packages (from aiohttp->datasets) (1.11.0)\n",
      "Requirement already satisfied: charset-normalizer<4,>=2 in /Users/reetvikchatterjee/anaconda3/lib/python3.11/site-packages (from requests->transformers) (3.3.2)\n",
      "Requirement already satisfied: idna<4,>=2.5 in /Users/reetvikchatterjee/anaconda3/lib/python3.11/site-packages (from requests->transformers) (3.7)\n",
      "Requirement already satisfied: urllib3<3,>=1.21.1 in /Users/reetvikchatterjee/anaconda3/lib/python3.11/site-packages (from requests->transformers) (1.26.19)\n",
      "Requirement already satisfied: certifi>=2017.4.17 in /Users/reetvikchatterjee/anaconda3/lib/python3.11/site-packages (from requests->transformers) (2024.8.30)\n",
      "Requirement already satisfied: python-dateutil>=2.8.2 in /Users/reetvikchatterjee/anaconda3/lib/python3.11/site-packages (from pandas->datasets) (2.9.0.post0)\n",
      "Requirement already satisfied: pytz>=2020.1 in /Users/reetvikchatterjee/anaconda3/lib/python3.11/site-packages (from pandas->datasets) (2024.1)\n",
      "Requirement already satisfied: tzdata>=2022.7 in /Users/reetvikchatterjee/anaconda3/lib/python3.11/site-packages (from pandas->datasets) (2023.3)\n",
      "Requirement already satisfied: wheel<1.0,>=0.23.0 in /Users/reetvikchatterjee/anaconda3/lib/python3.11/site-packages (from astunparse>=1.6.0->tensorflow-macos==2.15.0->tensorflow) (0.44.0)\n",
      "Requirement already satisfied: google-auth<3,>=1.6.3 in /Users/reetvikchatterjee/anaconda3/lib/python3.11/site-packages (from tensorboard<2.16,>=2.15->tensorflow-macos==2.15.0->tensorflow) (2.23.4)\n",
      "Requirement already satisfied: google-auth-oauthlib<2,>=0.5 in /Users/reetvikchatterjee/anaconda3/lib/python3.11/site-packages (from tensorboard<2.16,>=2.15->tensorflow-macos==2.15.0->tensorflow) (1.1.0)\n",
      "Requirement already satisfied: markdown>=2.6.8 in /Users/reetvikchatterjee/anaconda3/lib/python3.11/site-packages (from tensorboard<2.16,>=2.15->tensorflow-macos==2.15.0->tensorflow) (3.4.1)\n",
      "Requirement already satisfied: tensorboard-data-server<0.8.0,>=0.7.0 in /Users/reetvikchatterjee/anaconda3/lib/python3.11/site-packages (from tensorboard<2.16,>=2.15->tensorflow-macos==2.15.0->tensorflow) (0.7.2)\n",
      "Requirement already satisfied: werkzeug>=1.0.1 in /Users/reetvikchatterjee/anaconda3/lib/python3.11/site-packages (from tensorboard<2.16,>=2.15->tensorflow-macos==2.15.0->tensorflow) (3.0.3)\n",
      "Requirement already satisfied: cachetools<6.0,>=2.0.0 in /Users/reetvikchatterjee/anaconda3/lib/python3.11/site-packages (from google-auth<3,>=1.6.3->tensorboard<2.16,>=2.15->tensorflow-macos==2.15.0->tensorflow) (5.3.2)\n",
      "Requirement already satisfied: pyasn1-modules>=0.2.1 in /Users/reetvikchatterjee/anaconda3/lib/python3.11/site-packages (from google-auth<3,>=1.6.3->tensorboard<2.16,>=2.15->tensorflow-macos==2.15.0->tensorflow) (0.2.8)\n",
      "Requirement already satisfied: rsa<5,>=3.1.4 in /Users/reetvikchatterjee/anaconda3/lib/python3.11/site-packages (from google-auth<3,>=1.6.3->tensorboard<2.16,>=2.15->tensorflow-macos==2.15.0->tensorflow) (4.9)\n",
      "Requirement already satisfied: requests-oauthlib>=0.7.0 in /Users/reetvikchatterjee/anaconda3/lib/python3.11/site-packages (from google-auth-oauthlib<2,>=0.5->tensorboard<2.16,>=2.15->tensorflow-macos==2.15.0->tensorflow) (1.3.1)\n",
      "Requirement already satisfied: MarkupSafe>=2.1.1 in /Users/reetvikchatterjee/anaconda3/lib/python3.11/site-packages (from werkzeug>=1.0.1->tensorboard<2.16,>=2.15->tensorflow-macos==2.15.0->tensorflow) (2.1.3)\n",
      "Requirement already satisfied: pyasn1<0.5.0,>=0.4.6 in /Users/reetvikchatterjee/anaconda3/lib/python3.11/site-packages (from pyasn1-modules>=0.2.1->google-auth<3,>=1.6.3->tensorboard<2.16,>=2.15->tensorflow-macos==2.15.0->tensorflow) (0.4.8)\n",
      "Requirement already satisfied: oauthlib>=3.0.0 in /Users/reetvikchatterjee/anaconda3/lib/python3.11/site-packages (from requests-oauthlib>=0.7.0->google-auth-oauthlib<2,>=0.5->tensorboard<2.16,>=2.15->tensorflow-macos==2.15.0->tensorflow) (3.2.2)\n"
     ]
    }
   ],
   "source": [
    "! pip install transformers tensorflow datasets"
   ]
  },
  {
   "cell_type": "code",
   "execution_count": 31,
   "metadata": {
    "tags": []
   },
   "outputs": [],
   "source": [
    "from datasets import Dataset\n",
    "\n",
    "data = {\n",
    "    'combined_text': df_upsampled['combined_text'],  # Use your combined text column\n",
    "    'label': df_upsampled['class']  # Replace with your actual labels column\n",
    "}\n",
    "\n",
    "label_mapping = {\n",
    "    'sports': 0,\n",
    "    'technology': 1,\n",
    "    'stock business': 2\n",
    "    # Add more mappings if you have more classes\n",
    "}\n",
    "\n",
    "# Convert the labels\n",
    "data['label'] = data['label'].map(label_mapping)\n",
    "\n",
    "\n",
    "# Convert to Hugging Face dataset\n",
    "dataset = Dataset.from_pandas(pd.DataFrame(data))\n",
    "dataset = dataset.train_test_split(test_size=0.2)"
   ]
  },
  {
   "cell_type": "code",
   "execution_count": 32,
   "metadata": {
    "tags": []
   },
   "outputs": [],
   "source": [
    "train_dataset = dataset['train']\n",
    "test_dataset = dataset['test']"
   ]
  },
  {
   "cell_type": "code",
   "execution_count": 37,
   "metadata": {
    "tags": []
   },
   "outputs": [
    {
     "name": "stderr",
     "output_type": "stream",
     "text": [
      "Some weights of the PyTorch model were not used when initializing the TF 2.0 model TFDistilBertForSequenceClassification: ['vocab_transform.bias', 'vocab_transform.weight', 'vocab_layer_norm.weight', 'vocab_layer_norm.bias', 'vocab_projector.bias']\n",
      "- This IS expected if you are initializing TFDistilBertForSequenceClassification from a PyTorch model trained on another task or with another architecture (e.g. initializing a TFBertForSequenceClassification model from a BertForPreTraining model).\n",
      "- This IS NOT expected if you are initializing TFDistilBertForSequenceClassification from a PyTorch model that you expect to be exactly identical (e.g. initializing a TFBertForSequenceClassification model from a BertForSequenceClassification model).\n",
      "Some weights or buffers of the TF 2.0 model TFDistilBertForSequenceClassification were not initialized from the PyTorch model and are newly initialized: ['pre_classifier.weight', 'pre_classifier.bias', 'classifier.weight', 'classifier.bias']\n",
      "You should probably TRAIN this model on a down-stream task to be able to use it for predictions and inference.\n"
     ]
    }
   ],
   "source": [
    "from transformers import AutoTokenizer, TFAutoModelForSequenceClassification\n",
    "\n",
    "model_name = \"distilbert-base-uncased\"\n",
    "tokenizer = AutoTokenizer.from_pretrained(model_name)\n",
    "model = TFAutoModelForSequenceClassification.from_pretrained(model_name, num_labels=3)\n"
   ]
  },
  {
   "cell_type": "code",
   "execution_count": 38,
   "metadata": {
    "tags": []
   },
   "outputs": [
    {
     "data": {
      "application/vnd.jupyter.widget-view+json": {
       "model_id": "",
       "version_major": 2,
       "version_minor": 0
      },
      "text/plain": [
       "Map:   0%|          | 0/1509 [00:00<?, ? examples/s]"
      ]
     },
     "metadata": {},
     "output_type": "display_data"
    },
    {
     "data": {
      "application/vnd.jupyter.widget-view+json": {
       "model_id": "",
       "version_major": 2,
       "version_minor": 0
      },
      "text/plain": [
       "Map:   0%|          | 0/378 [00:00<?, ? examples/s]"
      ]
     },
     "metadata": {},
     "output_type": "display_data"
    }
   ],
   "source": [
    "def tokenize_function(examples):\n",
    "    return tokenizer(examples[\"combined_text\"], padding=\"max_length\", truncation=True)\n",
    "\n",
    "# Apply tokenization\n",
    "tokenized_train_dataset = train_dataset.map(tokenize_function, batched=True)\n",
    "tokenized_test_dataset = test_dataset.map(tokenize_function, batched=True)\n",
    "\n",
    "# Set the format for TensorFlow\n",
    "tokenized_train_dataset.set_format(type='tensorflow', columns=['input_ids', 'attention_mask', 'label'])\n",
    "tokenized_test_dataset.set_format(type='tensorflow', columns=['input_ids', 'attention_mask', 'label'])\n",
    "\n",
    "\n",
    "train_tf_dataset = tokenized_train_dataset.to_tf_dataset(\n",
    "    columns=['input_ids', 'attention_mask'],\n",
    "    label_cols=['label'],\n",
    "    shuffle=True,\n",
    "    batch_size=8\n",
    ")\n",
    "\n",
    "test_tf_dataset = tokenized_test_dataset.to_tf_dataset(\n",
    "    columns=['input_ids', 'attention_mask'],\n",
    "    label_cols=['label'],\n",
    "    shuffle=False,\n",
    "    batch_size=8\n",
    ")"
   ]
  },
  {
   "cell_type": "code",
   "execution_count": 39,
   "metadata": {
    "tags": []
   },
   "outputs": [
    {
     "name": "stderr",
     "output_type": "stream",
     "text": [
      "WARNING:absl:At this time, the v2.11+ optimizer `tf.keras.optimizers.Adam` runs slowly on M1/M2 Macs, please use the legacy Keras optimizer instead, located at `tf.keras.optimizers.legacy.Adam`.\n"
     ]
    }
   ],
   "source": [
    "import tensorflow as tf\n",
    "\n",
    "# Compile the model\n",
    "model.compile(optimizer=tf.keras.optimizers.Adam(learning_rate=2e-5),\n",
    "              loss=tf.keras.losses.SparseCategoricalCrossentropy(from_logits=True),\n",
    "              metrics=['accuracy'])\n"
   ]
  },
  {
   "cell_type": "code",
   "execution_count": null,
   "metadata": {
    "tags": []
   },
   "outputs": [
    {
     "name": "stdout",
     "output_type": "stream",
     "text": [
      "Epoch 1/3\n",
      "189/189 [==============================] - 656s 3s/step - loss: 0.3988 - accuracy: 0.8635 - val_loss: 0.1524 - val_accuracy: 0.9497\n",
      "Epoch 2/3\n",
      "189/189 [==============================] - 634s 3s/step - loss: 0.1223 - accuracy: 0.9622 - val_loss: 0.1240 - val_accuracy: 0.9603\n",
      "Epoch 3/3\n",
      "169/189 [=========================>....] - ETA: 1:03 - loss: 0.0740 - accuracy: 0.9793"
     ]
    }
   ],
   "source": [
    "model.fit(train_tf_dataset, epochs=3, validation_data=test_tf_dataset)\n"
   ]
  },
  {
   "cell_type": "code",
   "execution_count": 40,
   "metadata": {
    "tags": []
   },
   "outputs": [
    {
     "name": "stdout",
     "output_type": "stream",
     "text": [
      "48/48 [==============================] - 44s 900ms/step - loss: 1.1134 - accuracy: 0.2407\n",
      "Test Accuracy: 0.24074074625968933\n"
     ]
    }
   ],
   "source": [
    "loss, accuracy = model.evaluate(test_tf_dataset)\n",
    "print(f\"Test Accuracy: {accuracy}\")\n"
   ]
  },
  {
   "cell_type": "code",
   "execution_count": null,
   "metadata": {},
   "outputs": [],
   "source": []
  }
 ],
 "metadata": {
  "kernelspec": {
   "display_name": "Python 3 (ipykernel)",
   "language": "python",
   "name": "python3"
  },
  "language_info": {
   "codemirror_mode": {
    "name": "ipython",
    "version": 3
   },
   "file_extension": ".py",
   "mimetype": "text/x-python",
   "name": "python",
   "nbconvert_exporter": "python",
   "pygments_lexer": "ipython3",
   "version": "3.11.9"
  }
 },
 "nbformat": 4,
 "nbformat_minor": 4
}
